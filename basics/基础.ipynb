{
 "cells": [
  {
   "cell_type": "code",
   "execution_count": 3,
   "metadata": {},
   "outputs": [],
   "source": [
    "import numpy as np"
   ]
  },
  {
   "cell_type": "code",
   "execution_count": 7,
   "metadata": {},
   "outputs": [
    {
     "name": "stdout",
     "output_type": "stream",
     "text": [
      "[[-0.00152691  0.00140834]\n",
      " [-0.00339649 -0.01026983]]\n",
      "[[0.]\n",
      " [0.]]\n",
      "[[ 0.00785775 -0.00242643]\n",
      " [-0.00866492 -0.01759895]]\n",
      "[[0.]\n",
      " [0.]]\n"
     ]
    }
   ],
   "source": [
    "w1 = np.random.randn(2,2) * 0.01 # 生成高斯分布\n",
    "b1 = np.zeros((2,1))\n",
    "w2 = np.random.randn(2,2) * 0.01\n",
    "b2 = np.zeros((2,1))\n",
    "print(\"{}\".format(w1))\n",
    "print(\"{}\".format(b1))\n",
    "print(\"{}\".format(w2))\n",
    "print(\"{}\".format(b2))"
   ]
  },
  {
   "cell_type": "code",
   "execution_count": null,
   "metadata": {},
   "outputs": [],
   "source": []
  },
  {
   "cell_type": "code",
   "execution_count": null,
   "metadata": {},
   "outputs": [],
   "source": []
  }
 ],
 "metadata": {
  "kernelspec": {
   "display_name": "Python 3",
   "language": "python",
   "name": "python3"
  },
  "language_info": {
   "codemirror_mode": {
    "name": "ipython",
    "version": 3
   },
   "file_extension": ".py",
   "mimetype": "text/x-python",
   "name": "python",
   "nbconvert_exporter": "python",
   "pygments_lexer": "ipython3",
   "version": "3.8.3"
  }
 },
 "nbformat": 4,
 "nbformat_minor": 4
}
