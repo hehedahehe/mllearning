{
 "cells": [
  {
   "cell_type": "markdown",
   "metadata": {},
   "source": [
    "## 问题概述\n",
    "问题说明：你将获得一个包含以下内容的数据集（\"data.h5\"）：\n",
    "\n",
    "     标记为cat（y = 1）或非cat（y = 0）的m_train训练图像集\n",
    "     标记为cat或non-cat的m_test测试图像集\n",
    "     图像维度为（num_px，num_px，3），其中3表示3个通道（RGB）。 因此，每个图像都是正方形（高度= num_px）和（宽度= num_px）。\n",
    "你将构建一个简单的图像识别算法，该算法可以将图片正确分类为猫和非猫。\n"
   ]
  },
  {
   "cell_type": "code",
   "execution_count": null,
   "metadata": {},
   "outputs": [],
   "source": [
    "# 让我们熟悉一下数据集吧， 首先通过运行以下代码来加载数据"
   ]
  },
  {
   "cell_type": "code",
   "execution_count": 1,
   "metadata": {},
   "outputs": [],
   "source": [
    "import numpy as np\n",
    "import matplotlib.pyplot as plt\n",
    "import h5py\n",
    "import scipy\n",
    "from PIL import Image\n",
    "from scipy import ndimage\n",
    "from lr_utils import load_dataset\n"
   ]
  },
  {
   "cell_type": "code",
   "execution_count": 2,
   "metadata": {},
   "outputs": [],
   "source": [
    "\n",
    "# Loading the data (cat/non-cat)\n",
    "train_set_x_orig, train_set_y, test_set_x_orig, test_set_y, classes = load_dataset()"
   ]
  },
  {
   "cell_type": "code",
   "execution_count": 6,
   "metadata": {},
   "outputs": [
    {
     "name": "stdout",
     "output_type": "stream",
     "text": [
      "y = [0], it's a 'non-cat' picture.\n"
     ]
    },
    {
     "data": {
      "image/png": "[encoded data removed]",
      "text/plain": [
       "<Figure size 432x288 with 1 Axes>"
      ]
     },
     "metadata": {
      "needs_background": "light"
     },
     "output_type": "display_data"
    }
   ],
   "source": [
    "# Example of a picture\n",
    "index = 5\n",
    "plt.imshow(train_set_x_orig[index])\n",
    "print (\"y = \" + str(train_set_y[:, index]) + \", it's a '\" + classes[np.squeeze(train_set_y[:, index])].decode(\"utf-8\") +  \"' picture.\")\n",
    "#print(\"train_set_x_orig 5 =\"+str(train_set_x_orig[5]))"
   ]
  },
  {
   "cell_type": "markdown",
   "metadata": {},
   "source": [
    "## 练习：\n",
    "查找以下各项值\n",
    "* m_train(训练集示例数量)\n",
    "* m_test(测试集示例数量)\n",
    "* num_px(=训练图像的高度=训练图像的宽度)\n",
    "请记住：train_set_x_orig是一个纬度为（m_train,num_px,num_px,3）的numpy数组"
   ]
  },
  {
   "cell_type": "code",
   "execution_count": 7,
   "metadata": {},
   "outputs": [
    {
     "name": "stdout",
     "output_type": "stream",
     "text": [
      "(209, 64, 64, 3)\n"
     ]
    }
   ],
   "source": [
    "print(train_set_x_orig.shape)"
   ]
  },
  {
   "cell_type": "code",
   "execution_count": 10,
   "metadata": {},
   "outputs": [
    {
     "name": "stdout",
     "output_type": "stream",
     "text": [
      "m_train:209\n",
      "m_test:50\n",
      "num_px:64\n",
      "标签纬度：(1, 50)\n"
     ]
    }
   ],
   "source": [
    "m_train = train_set_x_orig.shape[0]\n",
    "m_test = test_set_x_orig.shape[0]\n",
    "num_px = train_set_x_orig.shape[1]\n",
    "print(\"m_train:\"+str(m_train))\n",
    "print(\"m_test:\"+str(m_test))\n",
    "print(\"num_px:\"+str(num_px))\n",
    "print(\"标签纬度：\"+str(test_set_y.shape)) #1行 20列"
   ]
  },
  {
   "cell_type": "code",
   "execution_count": 12,
   "metadata": {},
   "outputs": [
    {
     "name": "stdout",
     "output_type": "stream",
     "text": [
      "[[1 1 1 1 1 0 1 1 1 1 1 1 1 0 0 1 0 1 1 1 1 0 0 1 1 1 1 0 1 0 1 1 1 1 0 0\n",
      "  0 1 0 0 1 1 1 0 0 0 1 1 1 0]]\n"
     ]
    }
   ],
   "source": [
    "print(str(test_set_y))"
   ]
  },
  {
   "cell_type": "markdown",
   "metadata": {},
   "source": [
    "## 练习\n",
    "重塑训练和测试数据集，以便将大小（num_px, num_px, 3）的图像展平为单个形状的向量（num_px*num_px*3,1）\n",
    "\n",
    "当你想将维度为（a，b，c，d）的矩阵X展平为形状为(bcd, a)的矩阵X_flatten时的一个技巧是：\n",
    "\n",
    "X_flatten = X.reshape（X.shape [0]，-1）.T     ＃ 其中X.T是X的转置矩阵\n",
    "**而不用显式地去构建纬度，算是一种语法糖吧**"
   ]
  },
  {
   "cell_type": "code",
   "execution_count": 14,
   "metadata": {},
   "outputs": [
    {
     "name": "stdout",
     "output_type": "stream",
     "text": [
      "train_set_x_flatten shape:(12288, 209)\n",
      "test_set_x_flatten shape:(12288, 50)\n"
     ]
    }
   ],
   "source": [
    "train_set_x_flatten = train_set_x_orig.reshape(train_set_x_orig.shape[0],-1).T\n",
    "test_set_x_flatten = test_set_x_orig.reshape(test_set_x_orig.shape[0],-1).T\n",
    "print(\"train_set_x_flatten shape:\"+str(train_set_x_flatten.shape))\n",
    "print(\"test_set_x_flatten shape:\"+str(test_set_x_flatten.shape))"
   ]
  },
  {
   "cell_type": "markdown",
   "metadata": {},
   "source": [
    "# 标准化数据\n",
    "为了表示彩色图像，必须为每个像素指定红、绿、蓝色通道（RGB），因此像素值实际上是一个从0到255的三个数字的向量。\n",
    "\n",
    "机器学习中一个常见的预处理步骤是**对数据集进行居中和标准化**，这意味着你要从每个示例中减去整个numpy数组的均值，然后除以整个numpy数组的标准差。但是图片数据集则更为简单方便，并且只要将数据集的每一行除以255（像素通道的最大值），效果也差不多。\n",
    "\n",
    "在训练模型期间，你将要乘以权重并向一些初始输入添加偏差以观察神经元的激活。然后，使用反向梯度传播以训练模型。但是，让特征具有相似的范围以至渐变不会爆炸是非常重要的。具体内容我们将在后面的教程中详细学习！\n",
    "\n",
    "开始标准化我们的数据集吧！"
   ]
  },
  {
   "cell_type": "code",
   "execution_count": null,
   "metadata": {},
   "outputs": [],
   "source": [
    "train_set_x = train_set_x_flatten/255\n",
    "test_set_x = test_set_x_flatten/255\n"
   ]
  },
  {
   "cell_type": "markdown",
   "metadata": {},
   "source": [
    "**你需要记住的内容：**\n",
    "预处理数据集的常见步骤是：\n",
    "\n",
    "* 找出数据的尺寸和维度（m_train，m_test，num_px等）\n",
    "* 重塑数据集，以使每个示例都是大小为（num_px \\ num_px \\ 3，1）的向量\n",
    "* “标准化”数据"
   ]
  },
  {
   "cell_type": "markdown",
   "metadata": {},
   "source": [
    "# 学习算法的一般架构\n",
    "现在是时候设计一种简单的算法来区分猫图像和非猫图像了。\n",
    "\n",
    "你将使用神经网络思维方式建立Logistic回归。 下图说明了为什么“逻辑回归实际上是一个非常简单的神经网络！”\n"
   ]
  },
  {
   "cell_type": "markdown",
   "metadata": {},
   "source": [
    "**算法的数学表达式**\n",
    "//需进行推导"
   ]
  },
  {
   "cell_type": "markdown",
   "metadata": {},
   "source": [
    "**算法的关键步骤**\n",
    "* 初始化模型参数\n",
    "* 通过最小化损失来学习模型的参数\n",
    "* 使用学习到的参数进行预测（在测试集上）\n",
    "* 分析结果并得出结论"
   ]
  },
  {
   "cell_type": "markdown",
   "metadata": {},
   "source": [
    "# 构建算法的各个部分\n",
    "建立神经网络的主要步骤：\n",
    "1. 定义模型结构\n",
    "2. 初始化模型参数\n",
    "3. 循环 ：\n",
    "* 计算当前损失（正向传播）\n",
    "* 计算当前梯度 （向后传播）\n",
    "* 更新参数（梯度下降）\n",
    "\n",
    "你通常会分别构建1-3，然后将它们集成到一个称为“model()”的函数中"
   ]
  },
  {
   "cell_type": "markdown",
   "metadata": {},
   "source": [
    "**4.1-辅助函数**\n",
    "**练习：** 使用Python实现sigmoid（）。需要计算sigmoid去预测。使用np.exp()"
   ]
  },
  {
   "cell_type": "code",
   "execution_count": 2,
   "metadata": {},
   "outputs": [
    {
     "name": "stdout",
     "output_type": "stream",
     "text": [
      "z:1.0\n"
     ]
    }
   ],
   "source": [
    "def sigmoid(z):\n",
    "    return 1 / (1+np.exp(-z))\n",
    "\n",
    "# 测试\n",
    "\n",
    "z = 123\n",
    "s = sigmoid(z)\n",
    "print(\"z:\"+str(s))"
   ]
  },
  {
   "cell_type": "code",
   "execution_count": 7,
   "metadata": {},
   "outputs": [
    {
     "name": "stdout",
     "output_type": "stream",
     "text": [
      "z的形状 (2,) z:[0 2]\n",
      "s的形状 (2,) s:[0.5        0.88079708]\n"
     ]
    }
   ],
   "source": [
    "z = np.array([0,2])\n",
    "print(\"z的形状 {} z:{}\".format(z.shape,z))\n",
    "s = sigmoid(z)\n",
    "print(\"s的形状 {} s:{}\".format(s.shape,s))"
   ]
  },
  {
   "cell_type": "markdown",
   "metadata": {},
   "source": [
    "**4.2-初始化参数**\n",
    "**练习：** 在下面的单元格中实现参数初始化。你必须将w初始化为零向量。"
   ]
  },
  {
   "cell_type": "code",
   "execution_count": 8,
   "metadata": {},
   "outputs": [],
   "source": [
    "def initialize_with_zeros(dim):\n",
    "    w = np.zeros((dim,1))\n",
    "    b = 0\n",
    "    assert(w.shape == (dim,1))\n",
    "    assert(isinstance(b, float) or isinstance(b,int))\n",
    "    \n",
    "    return w,b"
   ]
  },
  {
   "cell_type": "code",
   "execution_count": 9,
   "metadata": {},
   "outputs": [
    {
     "name": "stdout",
     "output_type": "stream",
     "text": [
      "w [[0.]\n",
      " [0.]]\n",
      "b 0\n"
     ]
    }
   ],
   "source": [
    "dim = 2\n",
    "#w shape (dim,1) 的矩阵（列向量） 代表有dim个纬度的特征的权重\n",
    "#b 0 \n",
    "w, b = initialize_with_zeros(dim)\n",
    "print(\"w {}\".format(w))\n",
    "print(\"b {}\".format(b))\n",
    "\n",
    "#对于图像输入，w的纬度为(num_px * num_px * 3,1)"
   ]
  },
  {
   "cell_type": "markdown",
   "metadata": {},
   "source": [
    "**4.3- 前向和后向传播**\n",
    "现在，你的参数已经初始化，你可以执行“向前”和“向后”传播步骤来学习参数。\n",
    "**练习：**\n",
    "实现函数propagate()来计算损失函数及其梯度。\n",
    "**提示：**\n",
    "正向传播：\n",
    "* 默认都是列向量\n"
   ]
  },
  {
   "cell_type": "code",
   "execution_count": 12,
   "metadata": {},
   "outputs": [],
   "source": [
    "def propagate(w, b, X, Y):\n",
    "    # 样本个数\n",
    "    m = X.shape[1]\n",
    "    \n",
    "    A = sigmoid(np.dot(w.T,X)+b)\n",
    "    \n",
    "    #MEMO 这里的矩阵的乘法*使用了广播吗 区别于dot\n",
    "    cost = -1/m * np.sum(Y * np.log(A) + ( 1- Y) * np.log(1 - A))\n",
    "    \n",
    "    #MEMO 这里的矩阵的减-使用了广播吗\n",
    "    dw = 1/m * np.dot(X, (A - Y).T)\n",
    "    db = 1/m * np.sum(A - Y)\n",
    "    \n",
    "    \n",
    "    assert(dw.shape == w.shape)\n",
    "    assert(db.dtype == float)\n",
    "    cost = np.squeeze(cost)\n",
    "    assert(cost.shape == ())\n",
    "    \n",
    "    grads = {\"dw\":dw,\"db\":db}\n",
    "    \n",
    "    return grads, cost\n",
    "    "
   ]
  },
  {
   "cell_type": "code",
   "execution_count": 23,
   "metadata": {},
   "outputs": [
    {
     "name": "stdout",
     "output_type": "stream",
     "text": [
      "w (2, 1) 列向量\n",
      "X (2, 3) 列向量\n",
      "Y (1, 3) 行向量\n",
      "符合 w.T*X的运算规则\n",
      "dw = [[1.66662113]\n",
      " [2.9998679 ]]\n",
      "db = 0.6666233851157282\n",
      "cost = 9.000043284021533\n"
     ]
    }
   ],
   "source": [
    "w, b, X, Y = np.array([[1],[2]]), 2, np.array([[1,2,3],[3,4,5]]), np.array([[1,0,0]])\n",
    "print(\"w {} 列向量\".format(w.shape))\n",
    "# print(\"b {}\".format(b.shape))\n",
    "print(\"X {} 列向量\".format(X.shape))\n",
    "print(\"Y {} 行向量\".format(Y.shape))\n",
    "print(\"符合 w.T*X的运算规则\")\n",
    "\n",
    "\n",
    "grads, cost = propagate(w, b, X, Y)\n",
    "print (\"dw = \" + str(grads[\"dw\"]))\n",
    "print (\"db = \" + str(grads[\"db\"]))\n",
    "print (\"cost = \" + str(cost))"
   ]
  },
  {
   "cell_type": "code",
   "execution_count": 25,
   "metadata": {},
   "outputs": [
    {
     "name": "stdout",
     "output_type": "stream",
     "text": [
      "广播 s*s1:[ 4 10 18] s1*s:[ 4 10 18]\n"
     ]
    }
   ],
   "source": [
    "s = np.array([1,2,3])\n",
    "s1 = np.array([4,5,6])\n",
    "print(\"广播 s*s1:{} s1*s:{}\".format(s*s1,s1*s))"
   ]
  },
  {
   "cell_type": "code",
   "execution_count": null,
   "metadata": {},
   "outputs": [],
   "source": []
  }
 ],
 "metadata": {
  "kernelspec": {
   "display_name": "Python 3",
   "language": "python",
   "name": "python3"
  },
  "language_info": {
   "codemirror_mode": {
    "name": "ipython",
    "version": 3
   },
   "file_extension": ".py",
   "mimetype": "text/x-python",
   "name": "python",
   "nbconvert_exporter": "python",
   "pygments_lexer": "ipython3",
   "version": "3.8.3"
  }
 },
 "nbformat": 4,
 "nbformat_minor": 4
}
