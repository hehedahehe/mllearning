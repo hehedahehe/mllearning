{
 "cells": [
  {
   "cell_type": "markdown",
   "metadata": {},
   "source": [
    "## 问题概述\n",
    "问题说明：你将获得一个包含以下内容的数据集（\"data.h5\"）：\n",
    "\n",
    "     标记为cat（y = 1）或非cat（y = 0）的m_train训练图像集\n",
    "     标记为cat或non-cat的m_test测试图像集\n",
    "     图像维度为（num_px，num_px，3），其中3表示3个通道（RGB）。 因此，每个图像都是正方形（高度= num_px）和（宽度= num_px）。\n",
    "你将构建一个简单的图像识别算法，该算法可以将图片正确分类为猫和非猫。\n"
   ]
  },
  {
   "cell_type": "code",
   "execution_count": 2,
   "metadata": {},
   "outputs": [],
   "source": [
    "# 让我们熟悉一下数据集吧， 首先通过运行以下代码来加载数据"
   ]
  },
  {
   "cell_type": "code",
   "execution_count": 3,
   "metadata": {},
   "outputs": [],
   "source": [
    "import numpy as np\n",
    "import matplotlib.pyplot as plt\n",
    "import h5py\n",
    "import scipy\n",
    "from PIL import Image\n",
    "from scipy import ndimage\n",
    "from lr_utils import load_dataset\n"
   ]
  },
  {
   "cell_type": "code",
   "execution_count": 4,
   "metadata": {},
   "outputs": [],
   "source": [
    "\n",
    "# Loading the data (cat/non-cat)\n",
    "train_set_x_orig, train_set_y, test_set_x_orig, test_set_y, classes = load_dataset()"
   ]
  },
  {
   "cell_type": "code",
   "execution_count": 5,
   "metadata": {},
   "outputs": [
    {
     "name": "stdout",
     "output_type": "stream",
     "text": [
      "y = [0], it's a 'non-cat' picture.\n"
     ]
    },
    {
     "data": {
      "image/png": "[encoded data removed]",
      "text/plain": [
       "<Figure size 432x288 with 1 Axes>"
      ]
     },
     "metadata": {
      "needs_background": "light"
     },
     "output_type": "display_data"
    }
   ],
   "source": [
    "# Example of a picture\n",
    "index = 5\n",
    "plt.imshow(train_set_x_orig[index])\n",
    "print (\"y = \" + str(train_set_y[:, index]) + \", it's a '\" + classes[np.squeeze(train_set_y[:, index])].decode(\"utf-8\") +  \"' picture.\")\n",
    "#print(\"train_set_x_orig 5 =\"+str(train_set_x_orig[5]))"
   ]
  },
  {
   "cell_type": "markdown",
   "metadata": {},
   "source": [
    "## 练习：\n",
    "查找以下各项值\n",
    "* m_train(训练集示例数量)\n",
    "* m_test(测试集示例数量)\n",
    "* num_px(=训练图像的高度=训练图像的宽度)\n",
    "请记住：train_set_x_orig是一个纬度为（m_train,num_px,num_px,3）的numpy数组"
   ]
  },
  {
   "cell_type": "code",
   "execution_count": 6,
   "metadata": {},
   "outputs": [
    {
     "name": "stdout",
     "output_type": "stream",
     "text": [
      "(209, 64, 64, 3)\n"
     ]
    }
   ],
   "source": [
    "print(train_set_x_orig.shape)"
   ]
  },
  {
   "cell_type": "code",
   "execution_count": 7,
   "metadata": {},
   "outputs": [
    {
     "name": "stdout",
     "output_type": "stream",
     "text": [
      "m_train:209\n",
      "m_test:50\n",
      "num_px:64\n",
      "标签纬度：(1, 50)\n"
     ]
    }
   ],
   "source": [
    "m_train = train_set_x_orig.shape[0]\n",
    "m_test = test_set_x_orig.shape[0]\n",
    "num_px = train_set_x_orig.shape[1]\n",
    "print(\"m_train:\"+str(m_train))\n",
    "print(\"m_test:\"+str(m_test))\n",
    "print(\"num_px:\"+str(num_px))\n",
    "print(\"标签纬度：\"+str(test_set_y.shape)) #1行 20列"
   ]
  },
  {
   "cell_type": "code",
   "execution_count": 8,
   "metadata": {},
   "outputs": [
    {
     "name": "stdout",
     "output_type": "stream",
     "text": [
      "[[1 1 1 1 1 0 1 1 1 1 1 1 1 0 0 1 0 1 1 1 1 0 0 1 1 1 1 0 1 0 1 1 1 1 0 0\n",
      "  0 1 0 0 1 1 1 0 0 0 1 1 1 0]]\n"
     ]
    }
   ],
   "source": [
    "print(str(test_set_y))"
   ]
  },
  {
   "cell_type": "markdown",
   "metadata": {},
   "source": [
    "## 练习\n",
    "重塑训练和测试数据集，以便将大小（num_px, num_px, 3）的图像展平为单个形状的向量（num_px*num_px*3,1）\n",
    "\n",
    "当你想将维度为（a，b，c，d）的矩阵X展平为形状为(bcd, a)的矩阵X_flatten时的一个技巧是：\n",
    "\n",
    "X_flatten = X.reshape（X.shape [0]，-1）.T     ＃ 其中X.T是X的转置矩阵\n",
    "**而不用显式地去构建纬度，算是一种语法糖吧**"
   ]
  },
  {
   "cell_type": "code",
   "execution_count": 9,
   "metadata": {},
   "outputs": [
    {
     "name": "stdout",
     "output_type": "stream",
     "text": [
      "train_set_x_flatten shape:(12288, 209)\n",
      "test_set_x_flatten shape:(12288, 50)\n"
     ]
    }
   ],
   "source": [
    "train_set_x_flatten = train_set_x_orig.reshape(train_set_x_orig.shape[0],-1).T\n",
    "test_set_x_flatten = test_set_x_orig.reshape(test_set_x_orig.shape[0],-1).T\n",
    "print(\"train_set_x_flatten shape:\"+str(train_set_x_flatten.shape))\n",
    "print(\"test_set_x_flatten shape:\"+str(test_set_x_flatten.shape))"
   ]
  },
  {
   "cell_type": "markdown",
   "metadata": {},
   "source": [
    "# 标准化数据\n",
    "为了表示彩色图像，必须为每个像素指定红、绿、蓝色通道（RGB），因此像素值实际上是一个从0到255的三个数字的向量。\n",
    "\n",
    "机器学习中一个常见的预处理步骤是**对数据集进行居中和标准化**，这意味着你要从每个示例中减去整个numpy数组的均值，然后除以整个numpy数组的标准差。但是图片数据集则更为简单方便，并且只要将数据集的每一行除以255（像素通道的最大值），效果也差不多。\n",
    "\n",
    "在训练模型期间，你将要乘以权重并向一些初始输入添加偏差以观察神经元的激活。然后，使用反向梯度传播以训练模型。但是，让特征具有相似的范围以至渐变不会爆炸是非常重要的。具体内容我们将在后面的教程中详细学习！\n",
    "\n",
    "开始标准化我们的数据集吧！"
   ]
  },
  {
   "cell_type": "code",
   "execution_count": 10,
   "metadata": {},
   "outputs": [],
   "source": [
    "train_set_x = train_set_x_flatten/255\n",
    "test_set_x = test_set_x_flatten/255\n"
   ]
  },
  {
   "cell_type": "markdown",
   "metadata": {},
   "source": [
    "**你需要记住的内容：**\n",
    "预处理数据集的常见步骤是：\n",
    "\n",
    "* 找出数据的尺寸和维度（m_train，m_test，num_px等）\n",
    "* 重塑数据集，以使每个示例都是大小为（num_px \\ num_px \\ 3，1）的向量\n",
    "* “标准化”数据"
   ]
  },
  {
   "cell_type": "markdown",
   "metadata": {},
   "source": [
    "# 学习算法的一般架构\n",
    "现在是时候设计一种简单的算法来区分猫图像和非猫图像了。\n",
    "\n",
    "你将使用神经网络思维方式建立Logistic回归。 下图说明了为什么“逻辑回归实际上是一个非常简单的神经网络！”\n"
   ]
  },
  {
   "cell_type": "markdown",
   "metadata": {},
   "source": [
    "**算法的数学表达式**\n",
    "//需进行推导"
   ]
  },
  {
   "cell_type": "markdown",
   "metadata": {},
   "source": [
    "**算法的关键步骤**\n",
    "* 初始化模型参数\n",
    "* 通过最小化损失来学习模型的参数\n",
    "* 使用学习到的参数进行预测（在测试集上）\n",
    "* 分析结果并得出结论"
   ]
  },
  {
   "cell_type": "markdown",
   "metadata": {},
   "source": [
    "# 构建算法的各个部分\n",
    "建立神经网络的主要步骤：\n",
    "1. 定义模型结构\n",
    "2. 初始化模型参数\n",
    "3. 循环 ：\n",
    "* 计算当前损失（正向传播）\n",
    "* 计算当前梯度 （向后传播）\n",
    "* 更新参数（梯度下降）\n",
    "\n",
    "你通常会分别构建1-3，然后将它们集成到一个称为“model()”的函数中"
   ]
  },
  {
   "cell_type": "markdown",
   "metadata": {},
   "source": [
    "**4.1-辅助函数**\n",
    "**练习：** 使用Python实现sigmoid（）。需要计算sigmoid去预测。使用np.exp()"
   ]
  },
  {
   "cell_type": "code",
   "execution_count": 11,
   "metadata": {},
   "outputs": [
    {
     "name": "stdout",
     "output_type": "stream",
     "text": [
      "z:1.0\n"
     ]
    }
   ],
   "source": [
    "def sigmoid(z):\n",
    "    return 1 / (1+np.exp(-z))\n",
    "\n",
    "# 测试\n",
    "\n",
    "z = 123\n",
    "s = sigmoid(z)\n",
    "print(\"z:\"+str(s))"
   ]
  },
  {
   "cell_type": "code",
   "execution_count": 12,
   "metadata": {},
   "outputs": [
    {
     "name": "stdout",
     "output_type": "stream",
     "text": [
      "z的形状 (2,) z:[0 2]\n",
      "s的形状 (2,) s:[0.5        0.88079708]\n"
     ]
    }
   ],
   "source": [
    "z = np.array([0,2])\n",
    "print(\"z的形状 {} z:{}\".format(z.shape,z))\n",
    "s = sigmoid(z)\n",
    "print(\"s的形状 {} s:{}\".format(s.shape,s))"
   ]
  },
  {
   "cell_type": "markdown",
   "metadata": {},
   "source": [
    "**4.2-初始化参数**\n",
    "**练习：** 在下面的单元格中实现参数初始化。你必须将w初始化为零向量。"
   ]
  },
  {
   "cell_type": "code",
   "execution_count": 13,
   "metadata": {},
   "outputs": [],
   "source": [
    "def initialize_with_zeros(dim):\n",
    "    w = np.zeros((dim,1))\n",
    "    b = 0\n",
    "    assert(w.shape == (dim,1))\n",
    "    assert(isinstance(b, float) or isinstance(b,int))\n",
    "    \n",
    "    return w,b"
   ]
  },
  {
   "cell_type": "code",
   "execution_count": 14,
   "metadata": {},
   "outputs": [
    {
     "name": "stdout",
     "output_type": "stream",
     "text": [
      "w [[0.]\n",
      " [0.]]\n",
      "b 0\n"
     ]
    }
   ],
   "source": [
    "dim = 2\n",
    "#w shape (dim,1) 的矩阵（列向量） 代表有dim个纬度的特征的权重\n",
    "#b 0 \n",
    "w, b = initialize_with_zeros(dim)\n",
    "print(\"w {}\".format(w))\n",
    "print(\"b {}\".format(b))\n",
    "\n",
    "#对于图像输入，w的纬度为(num_px * num_px * 3,1)"
   ]
  },
  {
   "cell_type": "markdown",
   "metadata": {},
   "source": [
    "**4.3- 前向和后向传播**\n",
    "现在，你的参数已经初始化，你可以执行“向前”和“向后”传播步骤来学习参数。\n",
    "**练习：**\n",
    "实现函数propagate()来计算损失函数及其梯度。\n",
    "**提示：**\n",
    "正向传播：\n",
    "* 默认都是列向量\n"
   ]
  },
  {
   "cell_type": "code",
   "execution_count": 15,
   "metadata": {},
   "outputs": [],
   "source": [
    "def propagate(w, b, X, Y):\n",
    "    # 样本个数\n",
    "    m = X.shape[1]\n",
    "    \n",
    "    A = sigmoid(np.dot(w.T,X)+b)\n",
    "    \n",
    "    #MEMO 这里的矩阵的乘法*使用了广播吗 区别于dot\n",
    "    cost = -1/m * np.sum(Y * np.log(A) + ( 1- Y) * np.log(1 - A))\n",
    "    \n",
    "    #MEMO 这里的矩阵的减-使用了广播吗\n",
    "    dw = 1/m * np.dot(X, (A - Y).T)\n",
    "    db = 1/m * np.sum(A - Y)\n",
    "    \n",
    "    \n",
    "    assert(dw.shape == w.shape)\n",
    "    assert(db.dtype == float)\n",
    "    cost = np.squeeze(cost)\n",
    "    assert(cost.shape == ())\n",
    "    \n",
    "    grads = {\"dw\":dw,\"db\":db}\n",
    "    \n",
    "    return grads, cost\n",
    "    "
   ]
  },
  {
   "cell_type": "code",
   "execution_count": 18,
   "metadata": {},
   "outputs": [
    {
     "name": "stdout",
     "output_type": "stream",
     "text": [
      "w (2, 1) 列向量\n",
      "X (2, 3) 列向量\n",
      "Y (1, 3) 行向量\n",
      "符合 w.T*X的运算规则\n",
      "dw = [[1.66662113]\n",
      " [2.9998679 ]] (2, 1)\n",
      "db = 0.6666233851157282 ()\n",
      "cost = 9.000043284021533\n"
     ]
    }
   ],
   "source": [
    "w, b, X, Y = np.array([[1],[2]]), 2, np.array([[1,2,3],[3,4,5]]), np.array([[1,0,0]])\n",
    "print(\"w {} 列向量\".format(w.shape))\n",
    "# print(\"b {}\".format(b.shape))\n",
    "print(\"X {} 列向量\".format(X.shape))\n",
    "print(\"Y {} 行向量\".format(Y.shape))\n",
    "print(\"符合 w.T*X的运算规则\")\n",
    "\n",
    "\n",
    "grads, cost = propagate(w, b, X, Y)\n",
    "print (\"dw = {} {}\".format(str(grads[\"dw\"]),grads[\"dw\"].shape))\n",
    "print (\"db = {} {}\".format(str(grads[\"db\"]),grads[\"db\"].shape))\n",
    "print (\"cost = \" + str(cost))"
   ]
  },
  {
   "cell_type": "code",
   "execution_count": 17,
   "metadata": {},
   "outputs": [
    {
     "name": "stdout",
     "output_type": "stream",
     "text": [
      "广播 s*s1:[ 4 10 18] s1*s:[ 4 10 18]\n"
     ]
    }
   ],
   "source": [
    "s = np.array([1,2,3])\n",
    "s1 = np.array([4,5,6])\n",
    "print(\"广播 s*s1:{} s1*s:{}\".format(s*s1,s1*s))"
   ]
  },
  {
   "cell_type": "markdown",
   "metadata": {},
   "source": [
    "**优化函数**\n",
    "* 初始化参数\n",
    "* 计算损失函数及其梯度\n",
    "* 依据梯度下降来更新参数"
   ]
  },
  {
   "cell_type": "code",
   "execution_count": 57,
   "metadata": {},
   "outputs": [],
   "source": [
    "def optimize(w, b, X, Y, num_iterations, learning_rate, print_cost=False):\n",
    "    \n",
    "    costs = []\n",
    "    \n",
    "   \n",
    "    \n",
    " \n",
    "    #assert(dw.shape == w.shape)\n",
    "    #assert(isinstance(b, int))\n",
    "    #assert( float == db.dtype)\n",
    "\n",
    "    \n",
    "    for i in range(0,num_iterations):\n",
    "        grads, cost = propagate(w, b, X, Y)\n",
    "        \n",
    "        dw = grads[\"dw\"]\n",
    "        db = grads[\"db\"]\n",
    "    \n",
    "        w = w - learning_rate * dw\n",
    "        b = b - learning_rate * db\n",
    "        \n",
    "        if i % 100 == 0:\n",
    "            costs.append(cost)\n",
    "            \n",
    "    if print_cost:\n",
    "        print(\"************\")\n",
    "        print(\"{} times\".format(num_iterations))\n",
    "        print(\"w: {}\".format(w))\n",
    "        print(\"b: {}\".format(b))\n",
    "        print(\"costs:{}\".format(costs))\n",
    "\n",
    "    params = {\"w\": w,\n",
    "              \"b\": b}\n",
    "    \n",
    "    grads = {\"dw\": dw,\n",
    "             \"db\": db}\n",
    "    \n",
    "    return params, grads, costs\n",
    "    \n",
    "    "
   ]
  },
  {
   "cell_type": "code",
   "execution_count": 58,
   "metadata": {},
   "outputs": [
    {
     "name": "stdout",
     "output_type": "stream",
     "text": [
      "************\n",
      "100 times\n",
      "w: [[-0.32790317]\n",
      " [-0.34238201]]\n",
      "b: 1.4927605814216813\n",
      "costs:[9.000043284021533]\n",
      "************\n",
      "200 times\n",
      "w: [[-0.47937796]\n",
      " [-0.4188208 ]]\n",
      "b: 1.5302785776280574\n",
      "costs:[9.000043284021533, 0.4503949890210387]\n"
     ]
    }
   ],
   "source": [
    "#Test 100次\n",
    "w, b, X, Y = np.array([[1],[2]]), 2, np.array([[1,2,3],[3,4,5]]), np.array([[1,0,0]])\n",
    "for i in range(100,300,100):\n",
    "    optimize(w, b, X, Y, i, 0.01, True)\n"
   ]
  },
  {
   "cell_type": "markdown",
   "metadata": {},
   "source": [
    "**练习**： 上一个函数将输出学习到的w和b。 我们能够使用w和b来预测数据集X的标签。实现predict（）函数。 预测分类有两个步骤：\n",
    "1.计算 a\n",
    "2.将a的项转换为0（如果激活<= 0.5）或1（如果激活> 0.5），并将预测结果存储在向量“ Y_prediction”中。 如果愿意，可以在for循环中使用if / else语句。"
   ]
  },
  {
   "cell_type": "code",
   "execution_count": 59,
   "metadata": {},
   "outputs": [],
   "source": [
    "def predict(w, b, X):\n",
    "    \"\"\"\n",
    "    w 在训练数据集上学习的权重矩阵\n",
    "    b 在训练数据集上学习的参数常量\n",
    "    X 待预测的数据集\n",
    "    \"\"\"\n",
    "    # 样本个数\n",
    "    m = X.shape[1]\n",
    "    # 预测值（注意矩阵的shape）\n",
    "    Y_prediction = np.zeros((1,m))\n",
    "    # 权重矩阵<=纬度=>特征的个数\n",
    "    w = w.reshape(X.shape[0],1)\n",
    "    \n",
    "    A = sigmoid(np.dot(w.T,X)+b)\n",
    "    \n",
    "    assert(Y_prediction.shape == A.shape)\n",
    "    \n",
    "    for i in range(A.shape[1]):\n",
    "        \n",
    "        if A[0,i]>0.5:\n",
    "            Y_prediction[0,i] = 1\n",
    "        else:\n",
    "            Y_prediction[0,i] = 0\n",
    "    assert(Y_prediction.shape == (1,m))   \n",
    "    \n",
    "    return Y_prediction"
   ]
  },
  {
   "cell_type": "code",
   "execution_count": 60,
   "metadata": {},
   "outputs": [
    {
     "name": "stdout",
     "output_type": "stream",
     "text": [
      "predictions = [[1. 1.]]\n"
     ]
    }
   ],
   "source": [
    "w, b, X, Y = np.array([[1],[2]]), 2, np.array([[1,2],[3,4]]), np.array([[1,0]])\n",
    "params, grads, costs = optimize(w, b, X, Y, num_iterations= 100, learning_rate = 0.009, print_cost = False)\n",
    "print (\"predictions = \" + str(predict(params[\"w\"], params[\"b\"], X)))"
   ]
  },
  {
   "cell_type": "code",
   "execution_count": 61,
   "metadata": {},
   "outputs": [],
   "source": [
    "def model(X_train, Y_train, X_test, Y_test, num_iterations = 2000, learning_rate = 0.5, print_cost = False):\n",
    "    # initialize parameters with zeros (≈ 1 line of code)\n",
    "    w, b = initialize_with_zeros(X_train.shape[0])\n",
    "    # Gradient descent (≈ 1 line of code)\n",
    "    parameters, grads, costs = optimize(w, b, X_train, Y_train, num_iterations, learning_rate, print_cost)\n",
    "     # Retrieve parameters w and b from dictionary \"parameters\"\n",
    "    w = parameters[\"w\"]\n",
    "    b = parameters[\"b\"]\n",
    "    # Predict test/train set examples (≈ 2 lines of code)\n",
    "    Y_prediction_test = predict(w, b, X_test)\n",
    "    Y_prediction_train = predict(w, b, X_train)\n",
    "     # Print train/test Errors\n",
    "    print(\"train accuracy: {} %\".format(100 - np.mean(np.abs(Y_prediction_train - Y_train)) * 100))\n",
    "    print(\"test accuracy: {} %\".format(100 - np.mean(np.abs(Y_prediction_test - Y_test)) * 100))\n",
    "\n",
    "    \n",
    "    d = {\"costs\": costs,\n",
    "         \"Y_prediction_test\": Y_prediction_test, \n",
    "         \"Y_prediction_train\" : Y_prediction_train, \n",
    "         \"w\" : w, \n",
    "         \"b\" : b,\n",
    "         \"learning_rate\" : learning_rate,\n",
    "         \"num_iterations\": num_iterations}\n",
    "    \n",
    "    return d"
   ]
  },
  {
   "cell_type": "code",
   "execution_count": 62,
   "metadata": {},
   "outputs": [
    {
     "name": "stdout",
     "output_type": "stream",
     "text": [
      "************\n",
      "2000 times\n",
      "w: [[ 0.00961402]\n",
      " [-0.0264683 ]\n",
      " [-0.01226513]\n",
      " ...\n",
      " [-0.01144453]\n",
      " [-0.02944783]\n",
      " [ 0.02378106]]\n",
      "b: -0.015906243999692978\n",
      "costs:[0.6931471805599453, 0.5845083636993087, 0.4669490409465547, 0.37600686694802077, 0.3314632893282512, 0.30327306747438293, 0.27987958658260487, 0.2600421369258757, 0.2429406846779662, 0.2280042225672606, 0.2148195137844964, 0.20307819060644988, 0.19254427716706862, 0.18303333796883503, 0.17439859438448874, 0.16652139705400326, 0.15930451829756614, 0.15266732471296504, 0.1465422350398234, 0.1408720757031016]\n",
      "train accuracy: 99.04306220095694 %\n",
      "test accuracy: 70.0 %\n"
     ]
    }
   ],
   "source": [
    "d = model(train_set_x, train_set_y, test_set_x, test_set_y, num_iterations = 2000, learning_rate = 0.005, print_cost = True)"
   ]
  },
  {
   "cell_type": "markdown",
   "metadata": {},
   "source": [
    "**评价**：训练准确性接近100％。 这是一个很好的情况：你的模型正在运行，并且具有足够的容量来适合训练数据。 测试误差为68％。 考虑到我们使用的数据集很小，并且逻辑回归是线性分类器，对于这个简单的模型来说，这实际上还不错。 但请放心，下周你将建立一个更好的分类器！\n",
    "\n",
    "此外，你会看到该模型明显适合训练数据。 在本专业的稍后部分，你将学习如何减少过度拟合，例如通过使用正则化。 使用下面的代码（并更改index变量），你可以查看测试集图片上的预测。"
   ]
  },
  {
   "cell_type": "code",
   "execution_count": 63,
   "metadata": {},
   "outputs": [
    {
     "name": "stdout",
     "output_type": "stream",
     "text": [
      "y = 1, you predicted that it is a \"cat\" picture.\n"
     ]
    },
    {
     "data": {
      "image/png": "[encoded data removed]",
      "text/plain": [
       "<Figure size 432x288 with 1 Axes>"
      ]
     },
     "metadata": {
      "needs_background": "light"
     },
     "output_type": "display_data"
    }
   ],
   "source": [
    "# Example of a picture that was wrongly classified.\n",
    "index = 1\n",
    "plt.imshow(test_set_x[:,index].reshape((num_px, num_px, 3)))\n",
    "print (\"y = \" + str(test_set_y[0,index]) + \", you predicted that it is a \\\"\" + classes[int(d[\"Y_prediction_test\"][0,index])].decode(\"utf-8\") +  \"\\\" picture.\")\n"
   ]
  },
  {
   "cell_type": "code",
   "execution_count": 64,
   "metadata": {},
   "outputs": [
    {
     "data": {
      "image/png": "[encoded data removed]",
      "text/plain": [
       "<Figure size 432x288 with 1 Axes>"
      ]
     },
     "metadata": {
      "needs_background": "light"
     },
     "output_type": "display_data"
    }
   ],
   "source": [
    "# Plot learning curve (with costs)\n",
    "costs = np.squeeze(d['costs'])\n",
    "plt.plot(costs)\n",
    "plt.ylabel('cost')\n",
    "plt.xlabel('iterations (per hundreds)')\n",
    "plt.title(\"Learning rate =\" + str(d[\"learning_rate\"]))\n",
    "plt.show()"
   ]
  },
  {
   "cell_type": "markdown",
   "metadata": {},
   "source": [
    "**解释：**\n",
    "损失下降表明正在学习参数。 但是，你看到可以在训练集上训练更多模型。 尝试增加上面单元格中的迭代次数，然后重新运行这些单元格。 你可能会看到**训练集准确性提高了，但是测试集准确性却降低了**。 这称为**过度拟合**。"
   ]
  },
  {
   "cell_type": "markdown",
   "metadata": {},
   "source": [
    "**学习率的选择**\n",
    "提醒：\n",
    "为了使梯度下降起作用，你必须明智地选择学习率。 学习率决定我们更新参数的速度。 如果**学习率太大**，我们可能会“超出”最佳值。 同样，如果**太小**，将需要更多的迭代才能收敛到最佳值。 这也是为什么调整好学习率至关重要。\n",
    "\n",
    "让我们将模型的学习曲线与选择的几种学习率进行比较。 运行下面的单元格。 这大约需要1分钟。 还可以尝试与我们初始化要包含的“ learning_rates”变量的三个值不同的值，然后看看会发生什么。"
   ]
  },
  {
   "cell_type": "code",
   "execution_count": 65,
   "metadata": {},
   "outputs": [
    {
     "name": "stdout",
     "output_type": "stream",
     "text": [
      "learning rate is: 0.01\n",
      "train accuracy: 99.52153110047847 %\n",
      "test accuracy: 68.0 %\n",
      "\n",
      "-------------------------------------------------------\n",
      "\n",
      "learning rate is: 0.001\n",
      "train accuracy: 88.99521531100478 %\n",
      "test accuracy: 64.0 %\n",
      "\n",
      "-------------------------------------------------------\n",
      "\n",
      "learning rate is: 0.0001\n",
      "train accuracy: 68.42105263157895 %\n",
      "test accuracy: 36.0 %\n",
      "\n",
      "-------------------------------------------------------\n",
      "\n"
     ]
    },
    {
     "data": {
      "image/png": "[encoded data removed]",
      "text/plain": [
       "<Figure size 432x288 with 1 Axes>"
      ]
     },
     "metadata": {
      "needs_background": "light"
     },
     "output_type": "display_data"
    }
   ],
   "source": [
    "learning_rates = [0.01, 0.001, 0.0001]\n",
    "models = {}\n",
    "for i in learning_rates:\n",
    "    print (\"learning rate is: \" + str(i))\n",
    "    models[str(i)] = model(train_set_x, train_set_y, test_set_x, test_set_y, num_iterations = 1500, learning_rate = i, print_cost = False)\n",
    "    print ('\\n' + \"-------------------------------------------------------\" + '\\n')\n",
    "\n",
    "for i in learning_rates:\n",
    "    plt.plot(np.squeeze(models[str(i)][\"costs\"]), label= str(models[str(i)][\"learning_rate\"]))\n",
    "\n",
    "plt.ylabel('cost')\n",
    "plt.xlabel('iterations')\n",
    "\n",
    "legend = plt.legend(loc='upper center', shadow=True)\n",
    "frame = legend.get_frame()\n",
    "frame.set_facecolor('0.90')\n",
    "plt.show()"
   ]
  },
  {
   "cell_type": "markdown",
   "metadata": {},
   "source": [
    "**解释：**\n",
    "不同的学习率会带来不同的损失，因此会有不同的预测结果。\n",
    "如果学习率太大（0.01），则成本可能会上下波动。 它甚至可能会发散（尽管在此示例中，使用0.01最终仍会以较高的损失值获得收益）。\n",
    "较低的损失并不意味着模型效果很好。当训练精度比测试精度高很多时，就会发生过拟合情况。\n",
    "在深度学习中，我们通常建议你：\n",
    "     选择好能最小化损失函数的学习率。\n",
    "     **如果模型过度拟合，请使用其他方法来减少过度拟合**。 （我们将在后面的教程中讨论。）\n"
   ]
  },
  {
   "cell_type": "markdown",
   "metadata": {},
   "source": [
    "# 此作业要记住的内容：\n",
    "\n",
    "**预处理数据集很重要。**\n",
    "如何实现每个函数：initialize（），propagation（），optimize（），并用此构建一个model（）。\n",
    "调整学习速率（这是“超参数”的一个示例）可以对算法产生很大的影响。 你将在本课程的稍后部分看到更多示例！\n",
    "最后，如果你愿意，我们邀请你在此笔记本上尝试其他操作。 在尝试任何操作之前，请确保你正确提交。 提交后，你可以学习了解的包括：\n",
    "\n",
    "* 发挥学习率和迭代次数\n",
    "* 尝试不同的初始化方法并比较结果\n",
    "* 测试其他预处理（将数据居中，或将每行除以其标准偏差）\n"
   ]
  }
 ],
 "metadata": {
  "kernelspec": {
   "display_name": "Python 3",
   "language": "python",
   "name": "python3"
  },
  "language_info": {
   "codemirror_mode": {
    "name": "ipython",
    "version": 3
   },
   "file_extension": ".py",
   "mimetype": "text/x-python",
   "name": "python",
   "nbconvert_exporter": "python",
   "pygments_lexer": "ipython3",
   "version": "3.8.3"
  }
 },
 "nbformat": 4,
 "nbformat_minor": 4
}
